{
 "cells": [
  {
   "cell_type": "markdown",
   "id": "fd104e9b-7505-4438-bf61-1d89539a64ea",
   "metadata": {},
   "source": [
    "### Managing Conda Environments (Python)\n",
    "#### System: Win 10 (64bit) \n",
    "     \n",
    "        \n",
    "          \n",
    "            \n",
    "- Download the Anaconda or Miniconda from the [website](https://docs.conda.io/en/latest/miniconda.html#windows-installers)"
   ]
  },
  {
   "cell_type": "markdown",
   "id": "6f84d201-0ebf-4451-80db-566df938e600",
   "metadata": {},
   "source": [
    "![avatar](./pic/downloads_webpage.png)"
   ]
  },
  {
   "cell_type": "markdown",
   "id": "54356515-f39c-4e41-b78e-0ce2164caca6",
   "metadata": {},
   "source": [
    "- You can install the Miniconda or Anaconda through the following steps. Now, I install the Miniconda.  \n",
    "  \n",
    "![avatar](./pic/md_01.jpg)\n",
    "![avatar](./pic/md_02.jpg)\n",
    "![avatar](./pic/md_03.jpg)\n",
    "![avatar](./pic/md_04.jpg)\n",
    "![avatar](./pic/md_05.jpg)\n",
    "![avatar](./pic/md_06.jpg)\n",
    "![avatar](./pic/md_07.jpg)"
   ]
  },
  {
   "cell_type": "markdown",
   "id": "d08b6d89-eb96-41a4-9501-db9b6ebe1b8c",
   "metadata": {},
   "source": [
    "- After finished the Miniconda installation, if I want to write codes on Miniconda, how to do? First, we need to have a coding environment on Miniconda. we can open the Miniconda Prompt and know whether we have a coding environment.  \n",
    "\n",
    "```powershell\n",
    "conda env list\n",
    "```  \n",
    "  \n",
    "![avatar](./pic/Listing_environments_without_any_installed_environments.png)   \n",
    "   \n",
    "     "
   ]
  },
  {
   "cell_type": "markdown",
   "id": "a5d8dd0a-c86c-4d75-bc2f-b77534c4c5eb",
   "metadata": {},
   "source": [
    "-  When (base) is activated then it means that one is applying the conda environment called (base), which is the default environment when the installation of Anaconda or Miniconda is complete. We can also check the packages and libraries within this environment by inputting conda list and the similar list is shown:\n",
    "\n",
    "```powershell\n",
    "conda list\n",
    "```  \n",
    "  \n",
    "![avatar](./pic/Listing_packages_in_an_environment.png)"
   ]
  },
  {
   "cell_type": "markdown",
   "id": "7f4aab38-af4f-4173-a525-9f4c23b5f191",
   "metadata": {},
   "source": [
    "- We can build a new coding environment. This command will construct the environment called bridging_python with Python of version 3.8 installed.   \n",
    "\n",
    "\n",
    "```powershell\n",
    "conda create -n bridging_python python=3.8\n",
    "```  \n",
    "  \n",
    "![avatar](./pic/Building_new_environment_1.png)\n",
    "![avatar](./pic/Building_new_environment_2.png)\n",
    "![avatar](./pic/Building_new_environment_3.png)\n",
    "\n",
    "\n",
    "- Please note that (base) is still at the beginning of the command line, and you are still in the (base) environment. One can use the following command for such newly built environment:\n",
    "\n",
    "![avatar](./pic/Activating_environment.png) \n",
    "```powershell\n",
    "conda activate bridging_python\n",
    "```  \n",
    "\n",
    "- Now you can find that bridging_python is at the beginning of the command line instead of (base), and now welcome to go to the new separate environment. The lucky point is that you can try anything within this environment.\n"
   ]
  },
  {
   "cell_type": "markdown",
   "id": "94e58e8b-2358-4aca-b64e-41839e9937ca",
   "metadata": {},
   "source": [
    "- You will see two envs whether your install it correctly.  Now, we can try to open the Miniconda Prompt and try to know whether we have a coding environment.  \n",
    "  \n",
    "![avatar](./pic/Listing_environments_with_installed_environment.png)\n",
    "  \n",
    "\n",
    "- The Python interpreter of version 3.8 is installed, and if you input python then the following interactive interpreter is shown:  \n",
    "\n",
    "- Now you can try inputting some piece of Python codes and hit enter:  \n",
    "```powershell\n",
    "[1, 2, 3] * 3   \n",
    "``` \n",
    "\n",
    "- Then you can see the instant results  \n",
    "```powershell\n",
    "[1, 2, 3, 1, 2, 3, 1, 2, 3]  \n",
    "```   \n",
    "  \n",
    "  \n",
    "![avatar](./pic/Python_in_an_environment.png)   "
   ]
  },
  {
   "cell_type": "markdown",
   "id": "1b5a22f6-e5da-4e09-abe9-d1f1b4ee1ee7",
   "metadata": {},
   "source": [
    "- Inputting exit() will quit the Python interaction back to the shell. As introduced before, packages are needed to provide powerful functions to compete the works in data science. The next step is to show how to install the packages within the conda environment. First, for most of the Python packages, usually we can use either of two options for package management. One is also conda with package channel of conder-forge, the other is pip. Fortunately within conda environment, both commands are available for package management. For example, if we are interested in numppy package, just google it and go to its webpage. One can find that we can use pip for installation:\n",
    "\n",
    "```powershell\n",
    "conda install -c conda-forge numpy\n",
    "```\n",
    "\n",
    "![avatar](./pic/Installing_numpy_with_conda_1.png)\n",
    "![avatar](./pic/Installing_numpy_with_conda_2.png)  \n",
    "- You can see that the numpy has been installed successfully via conda list.  \n",
    "\n",
    "![avatar](./pic/Installing_numpy_with_conda_3.png)\n",
    "\n",
    "- You also can install Numpy via pip. but please do NOT use both ways for repeated installation.\n",
    "\n",
    "```powershell\n",
    "pip install numpy\n",
    "```\n",
    "\n",
    "![avatar](./pic/Installing_numpy_with_pip.png)\n",
    "\n",
    "We can re-enter the interactive Python by inputting python and input the codes to test numpy:\n",
    "  \n",
    "![avatar](./pic/Using_numpy.png)\n"
   ]
  },
  {
   "cell_type": "markdown",
   "id": "507a8ca1-d0d8-4915-9eee-7354d3cf4601",
   "metadata": {},
   "source": [
    "- Conda provides the simple command to export the information for the environment. First, one needs to find the location to store the such file using the command line. We can use cd in Terminal app in MacOS and dir in Command Prompt (cmd.exe) in Windows to change the working directory in the command line. Then, please make sure you are in the conda environment you wanna export, for example, bridging_python. \n",
    "\n",
    "\n",
    "![avatar](./pic/Exporting_conda_env_1.png)  \n",
    "![avatar](./pic/Exporting_conda_env_2.png)"
   ]
  },
  {
   "cell_type": "markdown",
   "id": "666ec132-3abb-43b0-a690-9c5dc34e8baa",
   "metadata": {},
   "source": [
    "- We have a better way for Python programming. One can check Jupyter lab, which is also the package to install using either of  \n",
    "\n",
    "```powershell\n",
    "conda install -c conda-forge \"jupyterlab>=3.0.0,<4.0.0a0\"  \n",
    "```\n",
    "   \n",
    "or  \n",
    "```powershell\n",
    "pip install \"jupyterlab>=3.0.0,<4.0.0a0\"  \n",
    "```\n",
    "  \n",
    "but NOT both.  \n",
    "\n",
    "- Here we just restrict its version below 4.0. The main reason is to avoid its compatibility issues with other packages or plugins. One can also check the video for the basic usage of Jupyter lab. Actually, Jupyter lab is the integrated development environment (IDE) for development, and one can view it as the tool for easy coding. One can find the example .ipynb files used in this course, which are opened and edited using Jupyter lab. After the installation, one can input jupyter lab, and then a new tab will be activated in your browser (chrome based browser is highly recommended). Now we can play with it.\n",
    "\n",
    "- On the other hand, one can also check the useful plugins to enhance Jupyter lab. Please note\n",
    "\n",
    "*Warning: Shut down the Jupyter lab before installing the packages or plugins.*\n",
    "\n",
    "- jupyterlab-lsp: Coding assistance for JupyterLab (code navigation + hover suggestions + linters + autocompletion + rename) using Language Server Protocol. One can follow the steps in their homepage for installation and the key steps are demystified here:\n",
    "- First install the lsp plugin:\n",
    "```powershell\n",
    "pip install jupyterlab-lsp \n",
    "```\n",
    "\n",
    "- and then install the lsp supporting package for Python\n",
    "```powershell\n",
    "pip install 'python-lsp-server[all]' python-lsp-black mypy-ls pyls-isort\n",
    "```\n",
    "\n",
    "- Jupyterlab Code Formatter: This is a small Jupyterlab plugin to support using various code formatter on the server side and format code cells/files in Jupyterlab.\n",
    "- First install the plugin:\n",
    "```powershell\n",
    "pip install jupyterlab_code_formatter\n",
    "```\n",
    "\n",
    "- Then install a series of supported code Pyton formatters:\n",
    "```powershell\n",
    "pip install black isort autopep8 yapf \n",
    "```\n"
   ]
  },
  {
   "cell_type": "markdown",
   "id": "7c56ed43-351b-4bc8-b28c-fb40a08a30e2",
   "metadata": {},
   "source": [
    "### Launch the jupyterlab\n",
    "\n",
    "- Now you can launch the jupyterlab via the following command.\n",
    "\n",
    "\n",
    "```powershell\n",
    "jupyter lab\n",
    "```   \n",
    "\n",
    "![avatar](./pic/Running_JupyterLab.png)\n",
    "\n"
   ]
  },
  {
   "cell_type": "markdown",
   "id": "bd691773-a583-4e25-b7ef-47e3637e474a",
   "metadata": {},
   "source": [
    "### Remove envs or packages\n",
    "\n",
    "- You can always erase this environment by\n",
    "```powershell\n",
    "conda remove --name bridging_python --all\n",
    "```   \n",
    "\n",
    "\n",
    "   \n",
    "- It is so easy to install or remove the package within conda environment. Please just make sure that you are in the correct environment.\n",
    "```powershell\n",
    "conda remove numpy\n",
    "```\n"
   ]
  },
  {
   "cell_type": "markdown",
   "id": "633da007-e630-4c71-bfc4-279fef106a1e",
   "metadata": {},
   "source": [
    "### Managing Conda Environments (R)\n",
    "- This step needs you to install the R and package through a YML file. This YML file is built by yourself, and I build it through Notepad++ in my computer.\n",
    "\n",
    "```powershell\n",
    "name: bridging_python_r\n",
    "channels:\n",
    "  - conda-forge\n",
    "  - defaults\n",
    "dependencies:\n",
    "  - python=3.8\n",
    "  - conda-forge::r-essentials=4.1.0\n",
    "  - conda-forge::libblas=3.9.0=9_mkl  \n",
    "```\n",
    "  \n",
    "![avatar](./pic/notepad_yml.jpg)\n",
    "\n",
    "\n",
    "- I then save it in YML file under the path for the easy implementation. Once you saved it, you could then implement the following code,  \n",
    "\n",
    "```powershell\n",
    "conda env create -f bridging_python_r_env.yml \n",
    "```    \n",
    "\n",
    "- And then Python, R and its packages would be automatically downloaded in you PC. \n",
    "\n"
   ]
  },
  {
   "cell_type": "markdown",
   "id": "46c42f32-26a1-4b06-b1d7-6085f36dfcbf",
   "metadata": {},
   "source": [
    "### R studio installation   \n",
    "\n",
    "\n",
    "![avatar](./pic/r_studio/Step_1.png)\n",
    "\n",
    "![avatar](./pic/r_studio/Step_2.png)\n",
    "\n",
    "![avatar](./pic/r_studio/Step_3.png)\n",
    "\n",
    "![avatar](./pic/r_studio/Step_4.png)\n",
    "\n",
    "![avatar](./pic/r_studio/Step_5.png)  \n",
    "\n",
    "![avatar](./pic/r_studio/Step_6.png)\n",
    "\n",
    "![avatar](./pic/r_studio/Step_7.png)    "
   ]
  },
  {
   "cell_type": "markdown",
   "id": "2f879ec3-a28a-4ba5-9d44-e12fcb9360da",
   "metadata": {},
   "source": []
  },
  {
   "cell_type": "markdown",
   "id": "255a1ce2-6da6-48f5-ac43-43f7e9c42061",
   "metadata": {},
   "source": []
  }
 ],
 "metadata": {
  "kernelspec": {
   "display_name": "Python 3 (ipykernel)",
   "language": "python",
   "name": "python3"
  },
  "language_info": {
   "codemirror_mode": {
    "name": "ipython",
    "version": 3
   },
   "file_extension": ".py",
   "mimetype": "text/x-python",
   "name": "python",
   "nbconvert_exporter": "python",
   "pygments_lexer": "ipython3",
   "version": "3.8.10"
  }
 },
 "nbformat": 4,
 "nbformat_minor": 5
}
